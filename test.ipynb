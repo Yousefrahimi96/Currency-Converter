{
 "cells": [
  {
   "cell_type": "code",
   "execution_count": 1,
   "metadata": {},
   "outputs": [],
   "source": [
    "import requests"
   ]
  },
  {
   "cell_type": "code",
   "execution_count": null,
   "metadata": {},
   "outputs": [],
   "source": [
    "main_url = 'https://v6.exchangerate-api.com/v6/f4e8c67eceb138c32b1fa586/latest/{}'"
   ]
  },
  {
   "cell_type": "code",
   "execution_count": 8,
   "metadata": {},
   "outputs": [],
   "source": [
    "def get_exchange_rate(base_currency, target_currency):\n",
    "    url = main_url.format(base_currency)\n",
    "    response = requests.get(url)\n",
    "    target_value = response.json()['conversion_rates'][target_currency]\n",
    "    print(target_value)"
   ]
  },
  {
   "cell_type": "code",
   "execution_count": 11,
   "metadata": {},
   "outputs": [
    {
     "name": "stdout",
     "output_type": "stream",
     "text": [
      "1.381\n"
     ]
    }
   ],
   "source": [
    "get_exchange_rate('USD', 'CAD')"
   ]
  },
  {
   "cell_type": "code",
   "execution_count": null,
   "metadata": {},
   "outputs": [],
   "source": [
    "def convert_currency(currency, mount):\n",
    "    main_url = 'https://v6.exchangerate-api.com/v6/f4e8c67eceb138c32b1fa586/latest/{}'\n",
    "    url = main_url.format(currency)\n",
    "    response = requests.get(url)\n",
    "    target_value = response.json()['conversion_rates']['USD']\n",
    "    finall_value = target_value * mount\n",
    "    print(finall_value)"
   ]
  },
  {
   "cell_type": "code",
   "execution_count": null,
   "metadata": {},
   "outputs": [],
   "source": [
    "convert_currency('IRR', 1000)"
   ]
  },
  {
   "cell_type": "code",
   "execution_count": null,
   "metadata": {},
   "outputs": [],
   "source": []
  }
 ],
 "metadata": {
  "kernelspec": {
   "display_name": "yousef",
   "language": "python",
   "name": "python3"
  },
  "language_info": {
   "codemirror_mode": {
    "name": "ipython",
    "version": 3
   },
   "file_extension": ".py",
   "mimetype": "text/x-python",
   "name": "python",
   "nbconvert_exporter": "python",
   "pygments_lexer": "ipython3",
   "version": "3.13.3"
  }
 },
 "nbformat": 4,
 "nbformat_minor": 2
}
