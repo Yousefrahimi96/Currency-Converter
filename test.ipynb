{
 "cells": [
  {
   "cell_type": "code",
   "execution_count": 1,
   "metadata": {},
   "outputs": [],
   "source": [
    "import requests"
   ]
  },
  {
   "cell_type": "code",
   "execution_count": 19,
   "metadata": {},
   "outputs": [],
   "source": [
    "main_url = 'https://v6.exchangerate-api.com/v6/f4e8c67eceb138c32b1fa586/latest/USD'"
   ]
  },
  {
   "cell_type": "code",
   "execution_count": null,
   "metadata": {},
   "outputs": [],
   "source": [
    "response = requests.get(main_url)\n"
   ]
  },
  {
   "cell_type": "code",
   "execution_count": 23,
   "metadata": {},
   "outputs": [
    {
     "name": "stdout",
     "output_type": "stream",
     "text": [
      "USD\n",
      "AED\n",
      "AFN\n",
      "ALL\n",
      "AMD\n",
      "ANG\n",
      "AOA\n",
      "ARS\n",
      "AUD\n",
      "AWG\n",
      "AZN\n",
      "BAM\n",
      "BBD\n",
      "BDT\n",
      "BGN\n",
      "BHD\n",
      "BIF\n",
      "BMD\n",
      "BND\n",
      "BOB\n",
      "BRL\n",
      "BSD\n",
      "BTN\n",
      "BWP\n",
      "BYN\n",
      "BZD\n",
      "CAD\n",
      "CDF\n",
      "CHF\n",
      "CLP\n",
      "CNY\n",
      "COP\n",
      "CRC\n",
      "CUP\n",
      "CVE\n",
      "CZK\n",
      "DJF\n",
      "DKK\n",
      "DOP\n",
      "DZD\n",
      "EGP\n",
      "ERN\n",
      "ETB\n",
      "EUR\n",
      "FJD\n",
      "FKP\n",
      "FOK\n",
      "GBP\n",
      "GEL\n",
      "GGP\n",
      "GHS\n",
      "GIP\n",
      "GMD\n",
      "GNF\n",
      "GTQ\n",
      "GYD\n",
      "HKD\n",
      "HNL\n",
      "HRK\n",
      "HTG\n",
      "HUF\n",
      "IDR\n",
      "ILS\n",
      "IMP\n",
      "INR\n",
      "IQD\n",
      "IRR\n",
      "ISK\n",
      "JEP\n",
      "JMD\n",
      "JOD\n",
      "JPY\n",
      "KES\n",
      "KGS\n",
      "KHR\n",
      "KID\n",
      "KMF\n",
      "KRW\n",
      "KWD\n",
      "KYD\n",
      "KZT\n",
      "LAK\n",
      "LBP\n",
      "LKR\n",
      "LRD\n",
      "LSL\n",
      "LYD\n",
      "MAD\n",
      "MDL\n",
      "MGA\n",
      "MKD\n",
      "MMK\n",
      "MNT\n",
      "MOP\n",
      "MRU\n",
      "MUR\n",
      "MVR\n",
      "MWK\n",
      "MXN\n",
      "MYR\n",
      "MZN\n",
      "NAD\n",
      "NGN\n",
      "NIO\n",
      "NOK\n",
      "NPR\n",
      "NZD\n",
      "OMR\n",
      "PAB\n",
      "PEN\n",
      "PGK\n",
      "PHP\n",
      "PKR\n",
      "PLN\n",
      "PYG\n",
      "QAR\n",
      "RON\n",
      "RSD\n",
      "RUB\n",
      "RWF\n",
      "SAR\n",
      "SBD\n",
      "SCR\n",
      "SDG\n",
      "SEK\n",
      "SGD\n",
      "SHP\n",
      "SLE\n",
      "SLL\n",
      "SOS\n",
      "SRD\n",
      "SSP\n",
      "STN\n",
      "SYP\n",
      "SZL\n",
      "THB\n",
      "TJS\n",
      "TMT\n",
      "TND\n",
      "TOP\n",
      "TRY\n",
      "TTD\n",
      "TVD\n",
      "TWD\n",
      "TZS\n",
      "UAH\n",
      "UGX\n",
      "UYU\n",
      "UZS\n",
      "VES\n",
      "VND\n",
      "VUV\n",
      "WST\n",
      "XAF\n",
      "XCD\n",
      "XCG\n",
      "XDR\n",
      "XOF\n",
      "XPF\n",
      "YER\n",
      "ZAR\n",
      "ZMW\n",
      "ZWL\n"
     ]
    }
   ],
   "source": [
    "for key in response.json()['conversion_rates']:\n",
    "    print(key)"
   ]
  },
  {
   "cell_type": "code",
   "execution_count": 8,
   "metadata": {},
   "outputs": [],
   "source": [
    "def get_exchange_rate(base_currency, target_currency):\n",
    "    url = main_url.format(base_currency)\n",
    "    response = requests.get(url)\n",
    "    target_value = response.json()['conversion_rates'][target_currency]\n",
    "    print(target_value)"
   ]
  },
  {
   "cell_type": "code",
   "execution_count": 11,
   "metadata": {},
   "outputs": [
    {
     "name": "stdout",
     "output_type": "stream",
     "text": [
      "1.381\n"
     ]
    }
   ],
   "source": [
    "get_exchange_rate('USD', 'CAD')"
   ]
  },
  {
   "cell_type": "code",
   "execution_count": null,
   "metadata": {},
   "outputs": [],
   "source": [
    "def convert_currency(currency, mount):\n",
    "    main_url = 'https://v6.exchangerate-api.com/v6/f4e8c67eceb138c32b1fa586/latest/{}'\n",
    "    url = main_url.format(currency)\n",
    "    response = requests.get(url)\n",
    "    target_value = response.json()['conversion_rates']['USD']\n",
    "    finall_value = target_value * mount\n",
    "    print(finall_value)"
   ]
  },
  {
   "cell_type": "code",
   "execution_count": null,
   "metadata": {},
   "outputs": [],
   "source": [
    "convert_currency('IRR', 1000)"
   ]
  },
  {
   "cell_type": "code",
   "execution_count": null,
   "metadata": {},
   "outputs": [],
   "source": []
  }
 ],
 "metadata": {
  "kernelspec": {
   "display_name": "yousef",
   "language": "python",
   "name": "python3"
  },
  "language_info": {
   "codemirror_mode": {
    "name": "ipython",
    "version": 3
   },
   "file_extension": ".py",
   "mimetype": "text/x-python",
   "name": "python",
   "nbconvert_exporter": "python",
   "pygments_lexer": "ipython3",
   "version": "3.13.0"
  }
 },
 "nbformat": 4,
 "nbformat_minor": 2
}
