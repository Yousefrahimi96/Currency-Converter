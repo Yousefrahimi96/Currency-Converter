{
 "cells": [
  {
   "cell_type": "code",
   "execution_count": 1,
   "metadata": {},
   "outputs": [],
   "source": [
    "import requests"
   ]
  },
  {
   "cell_type": "code",
   "execution_count": 8,
   "metadata": {},
   "outputs": [],
   "source": [
    "# The URL for the API endpoint\n",
    "url = 'https://www.googleapis.com/books/v1/volumes'\n",
    "params = {'q': 'sinuhe'}\n",
    "response = requests.get(url, params=params)"
   ]
  },
  {
   "cell_type": "code",
   "execution_count": 9,
   "metadata": {},
   "outputs": [
    {
     "name": "stdout",
     "output_type": "stream",
     "text": [
      "Sinuhe, Sohn der Sykomore\n",
      "Der stilistische Bau der Geschichte des Sinuhe\n",
      "Senebi und Selbst\n",
      "Der stilistische Bau der Geschichte des Sinuhe\n",
      "Von Sinuhe bis Nebukadnezar\n",
      "Handbuch der Literaturwissenschaft: Die ägyptische Literatur, von Dr. Max Pieper. Die babylonisch-assyrische Literatur, von Dr. Bruno Meissner\n",
      "The Tale of Sinuhe and Other Ancient Egyptian Poems, 1940-1640 BC\n",
      "Sinuhe, the Bible, and the Patriarchs\n",
      "Altorientalische Texte und Bilder zum Alten Testament\n",
      "Thought Couplets in the Tale of Sinuhe\n"
     ]
    }
   ],
   "source": [
    "# Checking if the request was successful.\n",
    "if response.status_code == 200:\n",
    "    # Parsing the JSON response.\n",
    "    books = response.json()\n",
    "    # Looping through the book items.\n",
    "    for book in books['items']:\n",
    "        # Printing the title of each book.\n",
    "        title = book['volumeInfo']['title']\n",
    "        print(title)\n",
    "else:\n",
    "    print(f\"Error: {response.status_code}\")"
   ]
  },
  {
   "cell_type": "code",
   "execution_count": null,
   "metadata": {},
   "outputs": [],
   "source": []
  }
 ],
 "metadata": {
  "kernelspec": {
   "display_name": "yousef",
   "language": "python",
   "name": "python3"
  },
  "language_info": {
   "codemirror_mode": {
    "name": "ipython",
    "version": 3
   },
   "file_extension": ".py",
   "mimetype": "text/x-python",
   "name": "python",
   "nbconvert_exporter": "python",
   "pygments_lexer": "ipython3",
   "version": "3.13.2"
  }
 },
 "nbformat": 4,
 "nbformat_minor": 2
}
